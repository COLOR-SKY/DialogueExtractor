{
    "cells": [
     {
      "cell_type": "code",
      "execution_count": 1,
      "metadata": {
       "scrolled": true
      },
      "outputs": [
       {
        "name": "stdout",
        "output_type": "stream",
        "text": [
         "Requirement already satisfied: bert-extractive-summarizer in /opt/miniconda3/envs/DE/lib/python3.7/site-packages (0.10.1)\n",
         "Requirement already satisfied: transformers in /opt/miniconda3/envs/DE/lib/python3.7/site-packages (from bert-extractive-summarizer) (4.16.1)\n",
         "Requirement already satisfied: spacy in /opt/miniconda3/envs/DE/lib/python3.7/site-packages (from bert-extractive-summarizer) (2.3.7)\n",
         "Requirement already satisfied: scikit-learn in /opt/miniconda3/envs/DE/lib/python3.7/site-packages (from bert-extractive-summarizer) (1.0.2)\n",
         "Requirement already satisfied: threadpoolctl>=2.0.0 in /opt/miniconda3/envs/DE/lib/python3.7/site-packages (from scikit-learn->bert-extractive-summarizer) (3.0.0)\n",
         "Requirement already satisfied: scipy>=1.1.0 in /opt/miniconda3/envs/DE/lib/python3.7/site-packages (from scikit-learn->bert-extractive-summarizer) (1.7.3)\n",
         "Requirement already satisfied: numpy>=1.14.6 in /opt/miniconda3/envs/DE/lib/python3.7/site-packages (from scikit-learn->bert-extractive-summarizer) (1.21.5)\n",
         "Requirement already satisfied: joblib>=0.11 in /opt/miniconda3/envs/DE/lib/python3.7/site-packages (from scikit-learn->bert-extractive-summarizer) (1.1.0)\n",
         "Requirement already satisfied: cymem<2.1.0,>=2.0.2 in /opt/miniconda3/envs/DE/lib/python3.7/site-packages (from spacy->bert-extractive-summarizer) (2.0.6)\n",
         "Requirement already satisfied: srsly<1.1.0,>=1.0.2 in /opt/miniconda3/envs/DE/lib/python3.7/site-packages (from spacy->bert-extractive-summarizer) (1.0.5)\n",
         "Requirement already satisfied: requests<3.0.0,>=2.13.0 in /opt/miniconda3/envs/DE/lib/python3.7/site-packages (from spacy->bert-extractive-summarizer) (2.27.1)\n",
         "Requirement already satisfied: murmurhash<1.1.0,>=0.28.0 in /opt/miniconda3/envs/DE/lib/python3.7/site-packages (from spacy->bert-extractive-summarizer) (1.0.6)\n",
         "Requirement already satisfied: catalogue<1.1.0,>=0.0.7 in /opt/miniconda3/envs/DE/lib/python3.7/site-packages (from spacy->bert-extractive-summarizer) (1.0.0)\n",
         "Requirement already satisfied: setuptools in /opt/miniconda3/envs/DE/lib/python3.7/site-packages (from spacy->bert-extractive-summarizer) (58.0.4)\n",
         "Requirement already satisfied: preshed<3.1.0,>=3.0.2 in /opt/miniconda3/envs/DE/lib/python3.7/site-packages (from spacy->bert-extractive-summarizer) (3.0.6)\n",
         "Requirement already satisfied: thinc<7.5.0,>=7.4.1 in /opt/miniconda3/envs/DE/lib/python3.7/site-packages (from spacy->bert-extractive-summarizer) (7.4.5)\n",
         "Requirement already satisfied: wasabi<1.1.0,>=0.4.0 in /opt/miniconda3/envs/DE/lib/python3.7/site-packages (from spacy->bert-extractive-summarizer) (0.9.0)\n",
         "Requirement already satisfied: blis<0.8.0,>=0.4.0 in /opt/miniconda3/envs/DE/lib/python3.7/site-packages (from spacy->bert-extractive-summarizer) (0.7.5)\n",
         "Requirement already satisfied: plac<1.2.0,>=0.9.6 in /opt/miniconda3/envs/DE/lib/python3.7/site-packages (from spacy->bert-extractive-summarizer) (0.9.6)\n",
         "Requirement already satisfied: tqdm<5.0.0,>=4.38.0 in /opt/miniconda3/envs/DE/lib/python3.7/site-packages (from spacy->bert-extractive-summarizer) (4.62.3)\n",
         "Requirement already satisfied: importlib-metadata>=0.20 in /opt/miniconda3/envs/DE/lib/python3.7/site-packages (from catalogue<1.1.0,>=0.0.7->spacy->bert-extractive-summarizer) (4.10.1)\n",
         "Requirement already satisfied: typing-extensions>=3.6.4 in /opt/miniconda3/envs/DE/lib/python3.7/site-packages (from importlib-metadata>=0.20->catalogue<1.1.0,>=0.0.7->spacy->bert-extractive-summarizer) (4.0.1)\n",
         "Requirement already satisfied: zipp>=0.5 in /opt/miniconda3/envs/DE/lib/python3.7/site-packages (from importlib-metadata>=0.20->catalogue<1.1.0,>=0.0.7->spacy->bert-extractive-summarizer) (3.7.0)\n",
         "Requirement already satisfied: certifi>=2017.4.17 in /opt/miniconda3/envs/DE/lib/python3.7/site-packages (from requests<3.0.0,>=2.13.0->spacy->bert-extractive-summarizer) (2021.10.8)\n",
         "Requirement already satisfied: charset-normalizer~=2.0.0 in /opt/miniconda3/envs/DE/lib/python3.7/site-packages (from requests<3.0.0,>=2.13.0->spacy->bert-extractive-summarizer) (2.0.10)\n",
         "Requirement already satisfied: urllib3<1.27,>=1.21.1 in /opt/miniconda3/envs/DE/lib/python3.7/site-packages (from requests<3.0.0,>=2.13.0->spacy->bert-extractive-summarizer) (1.26.8)\n",
         "Requirement already satisfied: idna<4,>=2.5 in /opt/miniconda3/envs/DE/lib/python3.7/site-packages (from requests<3.0.0,>=2.13.0->spacy->bert-extractive-summarizer) (3.3)\n",
         "Requirement already satisfied: packaging>=20.0 in /opt/miniconda3/envs/DE/lib/python3.7/site-packages (from transformers->bert-extractive-summarizer) (21.3)\n",
         "Requirement already satisfied: pyyaml>=5.1 in /opt/miniconda3/envs/DE/lib/python3.7/site-packages (from transformers->bert-extractive-summarizer) (6.0)\n",
         "Requirement already satisfied: tokenizers!=0.11.3,>=0.10.1 in /opt/miniconda3/envs/DE/lib/python3.7/site-packages (from transformers->bert-extractive-summarizer) (0.11.4)\n",
         "Requirement already satisfied: regex!=2019.12.17 in /opt/miniconda3/envs/DE/lib/python3.7/site-packages (from transformers->bert-extractive-summarizer) (2022.1.18)\n",
         "Requirement already satisfied: filelock in /opt/miniconda3/envs/DE/lib/python3.7/site-packages (from transformers->bert-extractive-summarizer) (3.4.2)\n",
         "Requirement already satisfied: huggingface-hub<1.0,>=0.1.0 in /opt/miniconda3/envs/DE/lib/python3.7/site-packages (from transformers->bert-extractive-summarizer) (0.4.0)\n",
         "Requirement already satisfied: sacremoses in /opt/miniconda3/envs/DE/lib/python3.7/site-packages (from transformers->bert-extractive-summarizer) (0.0.47)\n",
         "Requirement already satisfied: pyparsing!=3.0.5,>=2.0.2 in /opt/miniconda3/envs/DE/lib/python3.7/site-packages (from packaging>=20.0->transformers->bert-extractive-summarizer) (3.0.7)\n",
         "Requirement already satisfied: six in /opt/miniconda3/envs/DE/lib/python3.7/site-packages (from sacremoses->transformers->bert-extractive-summarizer) (1.16.0)\n",
         "Requirement already satisfied: click in /opt/miniconda3/envs/DE/lib/python3.7/site-packages (from sacremoses->transformers->bert-extractive-summarizer) (8.0.3)\n",
         "Requirement already satisfied: spacy==2.3.7 in /opt/miniconda3/envs/DE/lib/python3.7/site-packages (2.3.7)\n",
         "Requirement already satisfied: cymem<2.1.0,>=2.0.2 in /opt/miniconda3/envs/DE/lib/python3.7/site-packages (from spacy==2.3.7) (2.0.6)\n",
         "Requirement already satisfied: thinc<7.5.0,>=7.4.1 in /opt/miniconda3/envs/DE/lib/python3.7/site-packages (from spacy==2.3.7) (7.4.5)\n",
         "Requirement already satisfied: murmurhash<1.1.0,>=0.28.0 in /opt/miniconda3/envs/DE/lib/python3.7/site-packages (from spacy==2.3.7) (1.0.6)\n",
         "Requirement already satisfied: plac<1.2.0,>=0.9.6 in /opt/miniconda3/envs/DE/lib/python3.7/site-packages (from spacy==2.3.7) (0.9.6)\n",
         "Requirement already satisfied: srsly<1.1.0,>=1.0.2 in /opt/miniconda3/envs/DE/lib/python3.7/site-packages (from spacy==2.3.7) (1.0.5)\n",
         "Requirement already satisfied: numpy>=1.15.0 in /opt/miniconda3/envs/DE/lib/python3.7/site-packages (from spacy==2.3.7) (1.21.5)\n",
         "Requirement already satisfied: requests<3.0.0,>=2.13.0 in /opt/miniconda3/envs/DE/lib/python3.7/site-packages (from spacy==2.3.7) (2.27.1)\n",
         "Requirement already satisfied: preshed<3.1.0,>=3.0.2 in /opt/miniconda3/envs/DE/lib/python3.7/site-packages (from spacy==2.3.7) (3.0.6)\n",
         "Requirement already satisfied: wasabi<1.1.0,>=0.4.0 in /opt/miniconda3/envs/DE/lib/python3.7/site-packages (from spacy==2.3.7) (0.9.0)\n",
         "Requirement already satisfied: blis<0.8.0,>=0.4.0 in /opt/miniconda3/envs/DE/lib/python3.7/site-packages (from spacy==2.3.7) (0.7.5)\n",
         "Requirement already satisfied: tqdm<5.0.0,>=4.38.0 in /opt/miniconda3/envs/DE/lib/python3.7/site-packages (from spacy==2.3.7) (4.62.3)\n",
         "Requirement already satisfied: catalogue<1.1.0,>=0.0.7 in /opt/miniconda3/envs/DE/lib/python3.7/site-packages (from spacy==2.3.7) (1.0.0)\n",
         "Requirement already satisfied: setuptools in /opt/miniconda3/envs/DE/lib/python3.7/site-packages (from spacy==2.3.7) (58.0.4)\n",
         "Requirement already satisfied: importlib-metadata>=0.20 in /opt/miniconda3/envs/DE/lib/python3.7/site-packages (from catalogue<1.1.0,>=0.0.7->spacy==2.3.7) (4.10.1)\n",
         "Requirement already satisfied: zipp>=0.5 in /opt/miniconda3/envs/DE/lib/python3.7/site-packages (from importlib-metadata>=0.20->catalogue<1.1.0,>=0.0.7->spacy==2.3.7) (3.7.0)\n",
         "Requirement already satisfied: typing-extensions>=3.6.4 in /opt/miniconda3/envs/DE/lib/python3.7/site-packages (from importlib-metadata>=0.20->catalogue<1.1.0,>=0.0.7->spacy==2.3.7) (4.0.1)\n",
         "Requirement already satisfied: idna<4,>=2.5 in /opt/miniconda3/envs/DE/lib/python3.7/site-packages (from requests<3.0.0,>=2.13.0->spacy==2.3.7) (3.3)\n",
         "Requirement already satisfied: certifi>=2017.4.17 in /opt/miniconda3/envs/DE/lib/python3.7/site-packages (from requests<3.0.0,>=2.13.0->spacy==2.3.7) (2021.10.8)\n",
         "Requirement already satisfied: charset-normalizer~=2.0.0 in /opt/miniconda3/envs/DE/lib/python3.7/site-packages (from requests<3.0.0,>=2.13.0->spacy==2.3.7) (2.0.10)\n",
         "Requirement already satisfied: urllib3<1.27,>=1.21.1 in /opt/miniconda3/envs/DE/lib/python3.7/site-packages (from requests<3.0.0,>=2.13.0->spacy==2.3.7) (1.26.8)\n"
        ]
       },
       {
        "name": "stdout",
        "output_type": "stream",
        "text": [
         "Requirement already satisfied: transformers in /opt/miniconda3/envs/DE/lib/python3.7/site-packages (4.16.1)\n",
         "Requirement already satisfied: packaging>=20.0 in /opt/miniconda3/envs/DE/lib/python3.7/site-packages (from transformers) (21.3)\n",
         "Requirement already satisfied: sacremoses in /opt/miniconda3/envs/DE/lib/python3.7/site-packages (from transformers) (0.0.47)\n",
         "Requirement already satisfied: requests in /opt/miniconda3/envs/DE/lib/python3.7/site-packages (from transformers) (2.27.1)\n",
         "Requirement already satisfied: regex!=2019.12.17 in /opt/miniconda3/envs/DE/lib/python3.7/site-packages (from transformers) (2022.1.18)\n",
         "Requirement already satisfied: pyyaml>=5.1 in /opt/miniconda3/envs/DE/lib/python3.7/site-packages (from transformers) (6.0)\n",
         "Requirement already satisfied: importlib-metadata in /opt/miniconda3/envs/DE/lib/python3.7/site-packages (from transformers) (4.10.1)\n",
         "Requirement already satisfied: tokenizers!=0.11.3,>=0.10.1 in /opt/miniconda3/envs/DE/lib/python3.7/site-packages (from transformers) (0.11.4)\n",
         "Requirement already satisfied: numpy>=1.17 in /opt/miniconda3/envs/DE/lib/python3.7/site-packages (from transformers) (1.21.5)\n",
         "Requirement already satisfied: huggingface-hub<1.0,>=0.1.0 in /opt/miniconda3/envs/DE/lib/python3.7/site-packages (from transformers) (0.4.0)\n",
         "Requirement already satisfied: tqdm>=4.27 in /opt/miniconda3/envs/DE/lib/python3.7/site-packages (from transformers) (4.62.3)\n",
         "Requirement already satisfied: filelock in /opt/miniconda3/envs/DE/lib/python3.7/site-packages (from transformers) (3.4.2)\n",
         "Requirement already satisfied: typing-extensions>=3.7.4.3 in /opt/miniconda3/envs/DE/lib/python3.7/site-packages (from huggingface-hub<1.0,>=0.1.0->transformers) (4.0.1)\n",
         "Requirement already satisfied: pyparsing!=3.0.5,>=2.0.2 in /opt/miniconda3/envs/DE/lib/python3.7/site-packages (from packaging>=20.0->transformers) (3.0.7)\n",
         "Requirement already satisfied: zipp>=0.5 in /opt/miniconda3/envs/DE/lib/python3.7/site-packages (from importlib-metadata->transformers) (3.7.0)\n",
         "Requirement already satisfied: charset-normalizer~=2.0.0 in /opt/miniconda3/envs/DE/lib/python3.7/site-packages (from requests->transformers) (2.0.10)\n",
         "Requirement already satisfied: idna<4,>=2.5 in /opt/miniconda3/envs/DE/lib/python3.7/site-packages (from requests->transformers) (3.3)\n",
         "Requirement already satisfied: urllib3<1.27,>=1.21.1 in /opt/miniconda3/envs/DE/lib/python3.7/site-packages (from requests->transformers) (1.26.8)\n",
         "Requirement already satisfied: certifi>=2017.4.17 in /opt/miniconda3/envs/DE/lib/python3.7/site-packages (from requests->transformers) (2021.10.8)\n",
         "Requirement already satisfied: click in /opt/miniconda3/envs/DE/lib/python3.7/site-packages (from sacremoses->transformers) (8.0.3)\n",
         "Requirement already satisfied: joblib in /opt/miniconda3/envs/DE/lib/python3.7/site-packages (from sacremoses->transformers) (1.1.0)\n",
         "Requirement already satisfied: six in /opt/miniconda3/envs/DE/lib/python3.7/site-packages (from sacremoses->transformers) (1.16.0)\n",
         "Requirement already satisfied: neuralcoref in /opt/miniconda3/envs/DE/lib/python3.7/site-packages (4.0)\n",
         "Requirement already satisfied: numpy>=1.15.0 in /opt/miniconda3/envs/DE/lib/python3.7/site-packages (from neuralcoref) (1.21.5)\n",
         "Requirement already satisfied: boto3 in /opt/miniconda3/envs/DE/lib/python3.7/site-packages (from neuralcoref) (1.20.46)\n",
         "Requirement already satisfied: requests<3.0.0,>=2.13.0 in /opt/miniconda3/envs/DE/lib/python3.7/site-packages (from neuralcoref) (2.27.1)\n",
         "Requirement already satisfied: spacy>=2.1.0 in /opt/miniconda3/envs/DE/lib/python3.7/site-packages (from neuralcoref) (2.3.7)\n",
         "Requirement already satisfied: certifi>=2017.4.17 in /opt/miniconda3/envs/DE/lib/python3.7/site-packages (from requests<3.0.0,>=2.13.0->neuralcoref) (2021.10.8)\n",
         "Requirement already satisfied: charset-normalizer~=2.0.0 in /opt/miniconda3/envs/DE/lib/python3.7/site-packages (from requests<3.0.0,>=2.13.0->neuralcoref) (2.0.10)\n",
         "Requirement already satisfied: idna<4,>=2.5 in /opt/miniconda3/envs/DE/lib/python3.7/site-packages (from requests<3.0.0,>=2.13.0->neuralcoref) (3.3)\n",
         "Requirement already satisfied: urllib3<1.27,>=1.21.1 in /opt/miniconda3/envs/DE/lib/python3.7/site-packages (from requests<3.0.0,>=2.13.0->neuralcoref) (1.26.8)\n",
         "Requirement already satisfied: thinc<7.5.0,>=7.4.1 in /opt/miniconda3/envs/DE/lib/python3.7/site-packages (from spacy>=2.1.0->neuralcoref) (7.4.5)\n",
         "Requirement already satisfied: plac<1.2.0,>=0.9.6 in /opt/miniconda3/envs/DE/lib/python3.7/site-packages (from spacy>=2.1.0->neuralcoref) (0.9.6)\n",
         "Requirement already satisfied: srsly<1.1.0,>=1.0.2 in /opt/miniconda3/envs/DE/lib/python3.7/site-packages (from spacy>=2.1.0->neuralcoref) (1.0.5)\n",
         "Requirement already satisfied: murmurhash<1.1.0,>=0.28.0 in /opt/miniconda3/envs/DE/lib/python3.7/site-packages (from spacy>=2.1.0->neuralcoref) (1.0.6)\n",
         "Requirement already satisfied: tqdm<5.0.0,>=4.38.0 in /opt/miniconda3/envs/DE/lib/python3.7/site-packages (from spacy>=2.1.0->neuralcoref) (4.62.3)\n",
         "Requirement already satisfied: cymem<2.1.0,>=2.0.2 in /opt/miniconda3/envs/DE/lib/python3.7/site-packages (from spacy>=2.1.0->neuralcoref) (2.0.6)\n",
         "Requirement already satisfied: setuptools in /opt/miniconda3/envs/DE/lib/python3.7/site-packages (from spacy>=2.1.0->neuralcoref) (58.0.4)\n",
         "Requirement already satisfied: catalogue<1.1.0,>=0.0.7 in /opt/miniconda3/envs/DE/lib/python3.7/site-packages (from spacy>=2.1.0->neuralcoref) (1.0.0)\n",
         "Requirement already satisfied: wasabi<1.1.0,>=0.4.0 in /opt/miniconda3/envs/DE/lib/python3.7/site-packages (from spacy>=2.1.0->neuralcoref) (0.9.0)\n",
         "Requirement already satisfied: blis<0.8.0,>=0.4.0 in /opt/miniconda3/envs/DE/lib/python3.7/site-packages (from spacy>=2.1.0->neuralcoref) (0.7.5)\n",
         "Requirement already satisfied: preshed<3.1.0,>=3.0.2 in /opt/miniconda3/envs/DE/lib/python3.7/site-packages (from spacy>=2.1.0->neuralcoref) (3.0.6)\n",
         "Requirement already satisfied: importlib-metadata>=0.20 in /opt/miniconda3/envs/DE/lib/python3.7/site-packages (from catalogue<1.1.0,>=0.0.7->spacy>=2.1.0->neuralcoref) (4.10.1)\n",
         "Requirement already satisfied: typing-extensions>=3.6.4 in /opt/miniconda3/envs/DE/lib/python3.7/site-packages (from importlib-metadata>=0.20->catalogue<1.1.0,>=0.0.7->spacy>=2.1.0->neuralcoref) (4.0.1)\n",
         "Requirement already satisfied: zipp>=0.5 in /opt/miniconda3/envs/DE/lib/python3.7/site-packages (from importlib-metadata>=0.20->catalogue<1.1.0,>=0.0.7->spacy>=2.1.0->neuralcoref) (3.7.0)\n",
         "Requirement already satisfied: s3transfer<0.6.0,>=0.5.0 in /opt/miniconda3/envs/DE/lib/python3.7/site-packages (from boto3->neuralcoref) (0.5.0)\n",
         "Requirement already satisfied: botocore<1.24.0,>=1.23.46 in /opt/miniconda3/envs/DE/lib/python3.7/site-packages (from boto3->neuralcoref) (1.23.46)\n",
         "Requirement already satisfied: jmespath<1.0.0,>=0.7.1 in /opt/miniconda3/envs/DE/lib/python3.7/site-packages (from boto3->neuralcoref) (0.10.0)\n",
         "Requirement already satisfied: python-dateutil<3.0.0,>=2.1 in /opt/miniconda3/envs/DE/lib/python3.7/site-packages (from botocore<1.24.0,>=1.23.46->boto3->neuralcoref) (2.8.2)\n",
         "Requirement already satisfied: six>=1.5 in /opt/miniconda3/envs/DE/lib/python3.7/site-packages (from python-dateutil<3.0.0,>=2.1->botocore<1.24.0,>=1.23.46->boto3->neuralcoref) (1.16.0)\n",
         "Requirement already satisfied: sentencepiece in /opt/miniconda3/envs/DE/lib/python3.7/site-packages (0.1.96)\n",
         "Requirement already satisfied: tensorflow in /opt/miniconda3/envs/DE/lib/python3.7/site-packages (2.7.0)\n",
         "Requirement already satisfied: termcolor>=1.1.0 in /opt/miniconda3/envs/DE/lib/python3.7/site-packages (from tensorflow) (1.1.0)\n",
         "Requirement already satisfied: wheel<1.0,>=0.32.0 in /opt/miniconda3/envs/DE/lib/python3.7/site-packages (from tensorflow) (0.37.1)\n",
         "Requirement already satisfied: keras<2.8,>=2.7.0rc0 in /opt/miniconda3/envs/DE/lib/python3.7/site-packages (from tensorflow) (2.7.0)\n",
         "Requirement already satisfied: tensorflow-estimator<2.8,~=2.7.0rc0 in /opt/miniconda3/envs/DE/lib/python3.7/site-packages (from tensorflow) (2.7.0)\n",
         "Requirement already satisfied: numpy>=1.14.5 in /opt/miniconda3/envs/DE/lib/python3.7/site-packages (from tensorflow) (1.21.5)\n",
         "Requirement already satisfied: libclang>=9.0.1 in /opt/miniconda3/envs/DE/lib/python3.7/site-packages (from tensorflow) (13.0.0)\n",
         "Requirement already satisfied: six>=1.12.0 in /opt/miniconda3/envs/DE/lib/python3.7/site-packages (from tensorflow) (1.16.0)\n",
         "Requirement already satisfied: grpcio<2.0,>=1.24.3 in /opt/miniconda3/envs/DE/lib/python3.7/site-packages (from tensorflow) (1.43.0)\n",
         "Requirement already satisfied: h5py>=2.9.0 in /opt/miniconda3/envs/DE/lib/python3.7/site-packages (from tensorflow) (3.6.0)\n",
         "Requirement already satisfied: astunparse>=1.6.0 in /opt/miniconda3/envs/DE/lib/python3.7/site-packages (from tensorflow) (1.6.3)\n",
         "Requirement already satisfied: protobuf>=3.9.2 in /opt/miniconda3/envs/DE/lib/python3.7/site-packages (from tensorflow) (3.19.4)\n",
         "Requirement already satisfied: tensorflow-io-gcs-filesystem>=0.21.0 in /opt/miniconda3/envs/DE/lib/python3.7/site-packages (from tensorflow) (0.23.1)\n",
         "Requirement already satisfied: flatbuffers<3.0,>=1.12 in /opt/miniconda3/envs/DE/lib/python3.7/site-packages (from tensorflow) (2.0)\n",
         "Requirement already satisfied: google-pasta>=0.1.1 in /opt/miniconda3/envs/DE/lib/python3.7/site-packages (from tensorflow) (0.2.0)\n",
         "Requirement already satisfied: absl-py>=0.4.0 in /opt/miniconda3/envs/DE/lib/python3.7/site-packages (from tensorflow) (1.0.0)\n",
         "Requirement already satisfied: keras-preprocessing>=1.1.1 in /opt/miniconda3/envs/DE/lib/python3.7/site-packages (from tensorflow) (1.1.2)\n",
         "Requirement already satisfied: opt-einsum>=2.3.2 in /opt/miniconda3/envs/DE/lib/python3.7/site-packages (from tensorflow) (3.3.0)\n",
         "Requirement already satisfied: tensorboard~=2.6 in /opt/miniconda3/envs/DE/lib/python3.7/site-packages (from tensorflow) (2.8.0)\n",
         "Requirement already satisfied: typing-extensions>=3.6.6 in /opt/miniconda3/envs/DE/lib/python3.7/site-packages (from tensorflow) (4.0.1)\n",
         "Requirement already satisfied: gast<0.5.0,>=0.2.1 in /opt/miniconda3/envs/DE/lib/python3.7/site-packages (from tensorflow) (0.4.0)\n",
         "Requirement already satisfied: wrapt>=1.11.0 in /opt/miniconda3/envs/DE/lib/python3.7/site-packages (from tensorflow) (1.13.3)\n",
         "Requirement already satisfied: cached-property in /opt/miniconda3/envs/DE/lib/python3.7/site-packages (from h5py>=2.9.0->tensorflow) (1.5.2)\n"
        ]
       },
       {
        "name": "stdout",
        "output_type": "stream",
        "text": [
         "Requirement already satisfied: google-auth-oauthlib<0.5,>=0.4.1 in /opt/miniconda3/envs/DE/lib/python3.7/site-packages (from tensorboard~=2.6->tensorflow) (0.4.6)\n",
         "Requirement already satisfied: setuptools>=41.0.0 in /opt/miniconda3/envs/DE/lib/python3.7/site-packages (from tensorboard~=2.6->tensorflow) (58.0.4)\n",
         "Requirement already satisfied: werkzeug>=0.11.15 in /opt/miniconda3/envs/DE/lib/python3.7/site-packages (from tensorboard~=2.6->tensorflow) (2.0.2)\n",
         "Requirement already satisfied: tensorboard-plugin-wit>=1.6.0 in /opt/miniconda3/envs/DE/lib/python3.7/site-packages (from tensorboard~=2.6->tensorflow) (1.8.1)\n",
         "Requirement already satisfied: google-auth<3,>=1.6.3 in /opt/miniconda3/envs/DE/lib/python3.7/site-packages (from tensorboard~=2.6->tensorflow) (2.5.0)\n",
         "Requirement already satisfied: tensorboard-data-server<0.7.0,>=0.6.0 in /opt/miniconda3/envs/DE/lib/python3.7/site-packages (from tensorboard~=2.6->tensorflow) (0.6.1)\n",
         "Requirement already satisfied: markdown>=2.6.8 in /opt/miniconda3/envs/DE/lib/python3.7/site-packages (from tensorboard~=2.6->tensorflow) (3.3.6)\n",
         "Requirement already satisfied: requests<3,>=2.21.0 in /opt/miniconda3/envs/DE/lib/python3.7/site-packages (from tensorboard~=2.6->tensorflow) (2.27.1)\n",
         "Requirement already satisfied: rsa<5,>=3.1.4 in /opt/miniconda3/envs/DE/lib/python3.7/site-packages (from google-auth<3,>=1.6.3->tensorboard~=2.6->tensorflow) (4.8)\n",
         "Requirement already satisfied: pyasn1-modules>=0.2.1 in /opt/miniconda3/envs/DE/lib/python3.7/site-packages (from google-auth<3,>=1.6.3->tensorboard~=2.6->tensorflow) (0.2.8)\n",
         "Requirement already satisfied: cachetools<6.0,>=2.0.0 in /opt/miniconda3/envs/DE/lib/python3.7/site-packages (from google-auth<3,>=1.6.3->tensorboard~=2.6->tensorflow) (5.0.0)\n",
         "Requirement already satisfied: requests-oauthlib>=0.7.0 in /opt/miniconda3/envs/DE/lib/python3.7/site-packages (from google-auth-oauthlib<0.5,>=0.4.1->tensorboard~=2.6->tensorflow) (1.3.0)\n",
         "Requirement already satisfied: importlib-metadata>=4.4 in /opt/miniconda3/envs/DE/lib/python3.7/site-packages (from markdown>=2.6.8->tensorboard~=2.6->tensorflow) (4.10.1)\n",
         "Requirement already satisfied: zipp>=0.5 in /opt/miniconda3/envs/DE/lib/python3.7/site-packages (from importlib-metadata>=4.4->markdown>=2.6.8->tensorboard~=2.6->tensorflow) (3.7.0)\n",
         "Requirement already satisfied: pyasn1<0.5.0,>=0.4.6 in /opt/miniconda3/envs/DE/lib/python3.7/site-packages (from pyasn1-modules>=0.2.1->google-auth<3,>=1.6.3->tensorboard~=2.6->tensorflow) (0.4.8)\n",
         "Requirement already satisfied: idna<4,>=2.5 in /opt/miniconda3/envs/DE/lib/python3.7/site-packages (from requests<3,>=2.21.0->tensorboard~=2.6->tensorflow) (3.3)\n",
         "Requirement already satisfied: urllib3<1.27,>=1.21.1 in /opt/miniconda3/envs/DE/lib/python3.7/site-packages (from requests<3,>=2.21.0->tensorboard~=2.6->tensorflow) (1.26.8)\n",
         "Requirement already satisfied: certifi>=2017.4.17 in /opt/miniconda3/envs/DE/lib/python3.7/site-packages (from requests<3,>=2.21.0->tensorboard~=2.6->tensorflow) (2021.10.8)\n",
         "Requirement already satisfied: charset-normalizer~=2.0.0 in /opt/miniconda3/envs/DE/lib/python3.7/site-packages (from requests<3,>=2.21.0->tensorboard~=2.6->tensorflow) (2.0.10)\n",
         "Requirement already satisfied: oauthlib>=3.0.0 in /opt/miniconda3/envs/DE/lib/python3.7/site-packages (from requests-oauthlib>=0.7.0->google-auth-oauthlib<0.5,>=0.4.1->tensorboard~=2.6->tensorflow) (3.1.1)\n",
         "Collecting zh_core_web_lg==2.3.1\n",
         "  Using cached zh_core_web_lg-2.3.1-py3-none-any.whl\n",
         "Requirement already satisfied: jieba in /opt/miniconda3/envs/DE/lib/python3.7/site-packages (from zh_core_web_lg==2.3.1) (0.42.1)\n",
         "Requirement already satisfied: pkuseg>=0.0.22 in /opt/miniconda3/envs/DE/lib/python3.7/site-packages (from zh_core_web_lg==2.3.1) (0.0.25)\n",
         "Requirement already satisfied: spacy<2.4.0,>=2.3.0 in /opt/miniconda3/envs/DE/lib/python3.7/site-packages (from zh_core_web_lg==2.3.1) (2.3.7)\n",
         "Requirement already satisfied: cython in /opt/miniconda3/envs/DE/lib/python3.7/site-packages (from pkuseg>=0.0.22->zh_core_web_lg==2.3.1) (0.29.27)\n",
         "Requirement already satisfied: numpy>=1.16.0 in /opt/miniconda3/envs/DE/lib/python3.7/site-packages (from pkuseg>=0.0.22->zh_core_web_lg==2.3.1) (1.21.5)\n",
         "Requirement already satisfied: srsly<1.1.0,>=1.0.2 in /opt/miniconda3/envs/DE/lib/python3.7/site-packages (from spacy<2.4.0,>=2.3.0->zh_core_web_lg==2.3.1) (1.0.5)\n",
         "Requirement already satisfied: tqdm<5.0.0,>=4.38.0 in /opt/miniconda3/envs/DE/lib/python3.7/site-packages (from spacy<2.4.0,>=2.3.0->zh_core_web_lg==2.3.1) (4.62.3)\n",
         "Requirement already satisfied: murmurhash<1.1.0,>=0.28.0 in /opt/miniconda3/envs/DE/lib/python3.7/site-packages (from spacy<2.4.0,>=2.3.0->zh_core_web_lg==2.3.1) (1.0.6)\n",
         "Requirement already satisfied: preshed<3.1.0,>=3.0.2 in /opt/miniconda3/envs/DE/lib/python3.7/site-packages (from spacy<2.4.0,>=2.3.0->zh_core_web_lg==2.3.1) (3.0.6)\n",
         "Requirement already satisfied: setuptools in /opt/miniconda3/envs/DE/lib/python3.7/site-packages (from spacy<2.4.0,>=2.3.0->zh_core_web_lg==2.3.1) (58.0.4)\n",
         "Requirement already satisfied: plac<1.2.0,>=0.9.6 in /opt/miniconda3/envs/DE/lib/python3.7/site-packages (from spacy<2.4.0,>=2.3.0->zh_core_web_lg==2.3.1) (0.9.6)\n",
         "Requirement already satisfied: wasabi<1.1.0,>=0.4.0 in /opt/miniconda3/envs/DE/lib/python3.7/site-packages (from spacy<2.4.0,>=2.3.0->zh_core_web_lg==2.3.1) (0.9.0)\n",
         "Requirement already satisfied: cymem<2.1.0,>=2.0.2 in /opt/miniconda3/envs/DE/lib/python3.7/site-packages (from spacy<2.4.0,>=2.3.0->zh_core_web_lg==2.3.1) (2.0.6)\n",
         "Requirement already satisfied: catalogue<1.1.0,>=0.0.7 in /opt/miniconda3/envs/DE/lib/python3.7/site-packages (from spacy<2.4.0,>=2.3.0->zh_core_web_lg==2.3.1) (1.0.0)\n",
         "Requirement already satisfied: requests<3.0.0,>=2.13.0 in /opt/miniconda3/envs/DE/lib/python3.7/site-packages (from spacy<2.4.0,>=2.3.0->zh_core_web_lg==2.3.1) (2.27.1)\n",
         "Requirement already satisfied: thinc<7.5.0,>=7.4.1 in /opt/miniconda3/envs/DE/lib/python3.7/site-packages (from spacy<2.4.0,>=2.3.0->zh_core_web_lg==2.3.1) (7.4.5)\n",
         "Requirement already satisfied: blis<0.8.0,>=0.4.0 in /opt/miniconda3/envs/DE/lib/python3.7/site-packages (from spacy<2.4.0,>=2.3.0->zh_core_web_lg==2.3.1) (0.7.5)\n",
         "Requirement already satisfied: importlib-metadata>=0.20 in /opt/miniconda3/envs/DE/lib/python3.7/site-packages (from catalogue<1.1.0,>=0.0.7->spacy<2.4.0,>=2.3.0->zh_core_web_lg==2.3.1) (4.10.1)\n",
         "Requirement already satisfied: typing-extensions>=3.6.4 in /opt/miniconda3/envs/DE/lib/python3.7/site-packages (from importlib-metadata>=0.20->catalogue<1.1.0,>=0.0.7->spacy<2.4.0,>=2.3.0->zh_core_web_lg==2.3.1) (4.0.1)\n",
         "Requirement already satisfied: zipp>=0.5 in /opt/miniconda3/envs/DE/lib/python3.7/site-packages (from importlib-metadata>=0.20->catalogue<1.1.0,>=0.0.7->spacy<2.4.0,>=2.3.0->zh_core_web_lg==2.3.1) (3.7.0)\n",
         "Requirement already satisfied: charset-normalizer~=2.0.0 in /opt/miniconda3/envs/DE/lib/python3.7/site-packages (from requests<3.0.0,>=2.13.0->spacy<2.4.0,>=2.3.0->zh_core_web_lg==2.3.1) (2.0.10)\n",
         "Requirement already satisfied: certifi>=2017.4.17 in /opt/miniconda3/envs/DE/lib/python3.7/site-packages (from requests<3.0.0,>=2.13.0->spacy<2.4.0,>=2.3.0->zh_core_web_lg==2.3.1) (2021.10.8)\n",
         "Requirement already satisfied: urllib3<1.27,>=1.21.1 in /opt/miniconda3/envs/DE/lib/python3.7/site-packages (from requests<3.0.0,>=2.13.0->spacy<2.4.0,>=2.3.0->zh_core_web_lg==2.3.1) (1.26.8)\n",
         "Requirement already satisfied: idna<4,>=2.5 in /opt/miniconda3/envs/DE/lib/python3.7/site-packages (from requests<3.0.0,>=2.13.0->spacy<2.4.0,>=2.3.0->zh_core_web_lg==2.3.1) (3.3)\n",
         "\u001b[38;5;2m✔ Download and installation successful\u001b[0m\n",
         "You can now load the model via spacy.load('zh_core_web_lg')\n"
        ]
       }
      ],
      "source": [
       "!pip install bert-extractive-summarizer\n",
       "!pip install spacy==2.3.7\n",
       "!pip install transformers\n",
       "!pip install neuralcoref\n",
       "!pip install sentencepiece\n",
       "!pip install tensorflow\n",
       "!python -m spacy download zh_core_web_lg"
      ]
     },
     {
      "cell_type": "code",
      "execution_count": 2,
      "metadata": {},
      "outputs": [
       {
        "name": "stdout",
        "output_type": "stream",
        "text": [
         "Collecting package metadata (current_repodata.json): done\n",
         "Solving environment: done\n",
         "\n",
         "\n",
         "==> WARNING: A newer version of conda exists. <==\n",
         "  current version: 4.10.3\n",
         "  latest version: 4.11.0\n",
         "\n",
         "Please update conda by running\n",
         "\n",
         "    $ conda update -n base -c defaults conda\n",
         "\n",
         "\n",
         "\n",
         "# All requested packages already installed.\n",
         "\n"
        ]
       }
      ],
      "source": [
       "!conda install pytorch torchvision torchaudio -c pytorch -y"
      ]
     },
     {
      "cell_type": "code",
      "execution_count": 3,
      "metadata": {},
      "outputs": [
       {
        "name": "stderr",
        "output_type": "stream",
        "text": [
         "Building prefix dict from the default dictionary ...\n",
         "Loading model from cache /var/folders/7m/hsl39nr92272zml47mrxh2hc0000gn/T/jieba.cache\n",
         "Loading model cost 0.446 seconds.\n",
         "Prefix dict has been built successfully.\n"
        ]
       },
       {
        "data": {
         "text/plain": [
          "<spacy.lang.zh.Chinese at 0x7fe7a1e2de10>"
         ]
        },
        "execution_count": 3,
        "metadata": {},
        "output_type": "execute_result"
       }
      ],
      "source": [
       "import warnings\n",
       "warnings.filterwarnings('ignore')\n",
       "\n",
       "import spacy\n",
       "import zh_core_web_lg\n",
       "import neuralcoref\n",
       "\n",
       "nlp = zh_core_web_lg.load()\n",
       "neuralcoref.add_to_pipe(nlp)"
      ]
     },
     {
      "cell_type": "code",
      "execution_count": 4,
      "metadata": {},
      "outputs": [],
      "source": [
       "from summarizer import Summarizer\n",
       "from summarizer.text_processors.sentence_handler import SentenceHandler\n",
       "from spacy.lang.zh import Chinese\n",
       "from transformers import AutoConfig, AutoTokenizer, AutoModel\n",
       "import random"
      ]
     },
     {
      "cell_type": "code",
      "execution_count": 5,
      "metadata": {},
      "outputs": [
       {
        "name": "stderr",
        "output_type": "stream",
        "text": [
         "Some weights of the model checkpoint at uer/roberta-base-finetuned-chinanews-chinese were not used when initializing BertModel: ['classifier.bias', 'classifier.weight']\n",
         "- This IS expected if you are initializing BertModel from the checkpoint of a model trained on another task or with another architecture (e.g. initializing a BertForSequenceClassification model from a BertForPreTraining model).\n",
         "- This IS NOT expected if you are initializing BertModel from the checkpoint of a model that you expect to be exactly identical (initializing a BertForSequenceClassification model from a BertForSequenceClassification model).\n"
        ]
       },
       {
        "data": {
         "text/plain": [
          "'一直以来总想用一种什么方式把初中生活记录下来，用文字，又太过单调，用图画，又太过死板，，只有一种叫做光影的东西才能把他们全记录的真真切切。 我们在摄像头下肆意打闹，管他见不见阎罗王，上课时在课桌下搞着小发明，幻想成为下一个爱因斯坦，翻开桌斗一看，一堆小纸条和零零散散的的橡皮泥，桌角还有用纸包得严严的口香糖。 吧啦”又一个可怜的小孩的小孩柜门被某某按进去了，随后一声尖叫，有什么办法呢，修柜吧。 曾一度有过一段医院的经历，在重症病房外要么是大喜要么是大悲，在病人命悬一线时，有了生的希望时，亲人是欣喜若狂的，他们觉得亲人活着，就已经是老天在眷顾他们了，只要有生命，已经是别无所求，与生死较量过的人，还有什么苦不能吃什么难不能过呢。 然后每日练习十二小时，平均每天击出一千球，一直练到球杆握不住为止，这就是她成功的代价。'"
         ]
        },
        "execution_count": 5,
        "metadata": {},
        "output_type": "execute_result"
       }
      ],
      "source": [
       "modelName = \"bert-base-chinese\"\n",
       "modelName = \"uer/roberta-base-finetuned-chinanews-chinese\"\n",
       "custom_config = AutoConfig.from_pretrained(modelName)\n",
       "custom_config.output_hidden_states=True\n",
       "custom_tokenizer = AutoTokenizer.from_pretrained(modelName)\n",
       "custom_model = AutoModel.from_pretrained(modelName, config=custom_config)\n",
       "model = Summarizer(\n",
       "    custom_model=custom_model, \n",
       "    custom_tokenizer=custom_tokenizer,\n",
       "    sentence_handler = SentenceHandler(language=Chinese),\n",
       ")\n",
       "with open(\"1.txt\") as file:\n",
       "    plain = file.read().split(\"。\")\n",
       "    body = []\n",
       "    for sentence in plain:\n",
       "        if random.randint(0, 100) > 10:\n",
       "            body.append(sentence)\n",
       "    body = \"。\".join(body)\n",
       "\n",
       "result = model(\n",
       "    body=body,\n",
       "    num_sentences=5\n",
       ")\n",
       "result"
      ]
     },
     {
      "cell_type": "code",
      "execution_count": 6,
      "metadata": {},
      "outputs": [
       {
        "data": {
         "text/plain": [
          "array([[ 0.00324062,  0.26196805,  0.3949575 , ...,  0.3007724 ,\n",
          "         0.6028439 ,  0.3966718 ],\n",
          "       [ 0.1440831 ,  0.50811267, -0.4292719 , ...,  0.29488227,\n",
          "         0.10104778,  0.27318   ],\n",
          "       [ 1.0714781 ,  0.01688286, -0.42002812, ...,  0.4559773 ,\n",
          "        -1.0178088 , -0.11570095]], dtype=float32)"
         ]
        },
        "execution_count": 6,
        "metadata": {},
        "output_type": "execute_result"
       }
      ],
      "source": [
       "model.run_embeddings(body, ratio=0.2)"
      ]
     },
     {
      "cell_type": "code",
      "execution_count": 7,
      "metadata": {},
      "outputs": [
       {
        "data": {
         "text/plain": [
          "'一直以来总想用一种什么方式把初中生活记录下来，用文字，又太过单调，用图画，又太过死板，，只有一种叫做光影的东西才能把他们全记录的真真切切。 我们在摄像头下肆意打闹，管他见不见阎罗王，上课时在课桌下搞着小发明，幻想成为下一个爱因斯坦，翻开桌斗一看，一堆小纸条和零零散散的的橡皮泥，桌角还有用纸包得严严的口香糖。 吧啦”又一个可怜的小孩的小孩柜门被某某按进去了，随后一声尖叫，有什么办法呢，修柜吧。 曾一度有过一段医院的经历，在重症病房外要么是大喜要么是大悲，在病人命悬一线时，有了生的希望时，亲人是欣喜若狂的，他们觉得亲人活着，就已经是老天在眷顾他们了，只要有生命，已经是别无所求，与生死较量过的人，还有什么苦不能吃什么难不能过呢。 然后每日练习十二小时，平均每天击出一千球，一直练到球杆握不住为止，这就是她成功的代价。'"
         ]
        },
        "execution_count": 7,
        "metadata": {},
        "output_type": "execute_result"
       }
      ],
      "source": [
       "result"
      ]
     },
     {
      "cell_type": "code",
      "execution_count": 8,
      "metadata": {},
      "outputs": [
       {
        "data": {
         "text/plain": [
          "BertConfig {\n",
          "  \"_name_or_path\": \"uer/roberta-base-finetuned-chinanews-chinese\",\n",
          "  \"architectures\": [\n",
          "    \"BertForSequenceClassification\"\n",
          "  ],\n",
          "  \"attention_probs_dropout_prob\": 0.1,\n",
          "  \"classifier_dropout\": null,\n",
          "  \"gradient_checkpointing\": false,\n",
          "  \"hidden_act\": \"gelu\",\n",
          "  \"hidden_dropout_prob\": 0.1,\n",
          "  \"hidden_size\": 768,\n",
          "  \"id2label\": {\n",
          "    \"0\": \"mainland China politics\",\n",
          "    \"1\": \"Hong Kong - Macau politics\",\n",
          "    \"2\": \"International news\",\n",
          "    \"3\": \"financial news\",\n",
          "    \"4\": \"culture\",\n",
          "    \"5\": \"entertainment\",\n",
          "    \"6\": \"sports\"\n",
          "  },\n",
          "  \"initializer_range\": 0.02,\n",
          "  \"intermediate_size\": 3072,\n",
          "  \"label2id\": {\n",
          "    \"Hong Kong - Macau politics\": 1,\n",
          "    \"International news\": 2,\n",
          "    \"culture\": 4,\n",
          "    \"entertainment\": 5,\n",
          "    \"financial news\": 3,\n",
          "    \"mainland China politics\": 0,\n",
          "    \"sports\": 6\n",
          "  },\n",
          "  \"layer_norm_eps\": 1e-12,\n",
          "  \"max_position_embeddings\": 512,\n",
          "  \"model_type\": \"bert\",\n",
          "  \"num_attention_heads\": 12,\n",
          "  \"num_hidden_layers\": 12,\n",
          "  \"output_hidden_states\": true,\n",
          "  \"pad_token_id\": 0,\n",
          "  \"position_embedding_type\": \"absolute\",\n",
          "  \"transformers_version\": \"4.16.1\",\n",
          "  \"type_vocab_size\": 2,\n",
          "  \"use_cache\": true,\n",
          "  \"vocab_size\": 21128\n",
          "}"
         ]
        },
        "execution_count": 8,
        "metadata": {},
        "output_type": "execute_result"
       }
      ],
      "source": [
       "custom_config"
      ]
     }
    ],
    "metadata": {
     "kernelspec": {
      "display_name": "Python 3 (ipykernel)",
      "language": "python",
      "name": "python3"
     },
     "language_info": {
      "codemirror_mode": {
       "name": "ipython",
       "version": 3
      },
      "file_extension": ".py",
      "mimetype": "text/x-python",
      "name": "python",
      "nbconvert_exporter": "python",
      "pygments_lexer": "ipython3",
      "version": "3.9.7"
     }
    },
    "nbformat": 4,
    "nbformat_minor": 4
   }